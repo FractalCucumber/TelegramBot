{
  "nbformat": 4,
  "nbformat_minor": 0,
  "metadata": {
    "colab": {
      "provenance": [],
      "toc_visible": true,
      "include_colab_link": true
    },
    "kernelspec": {
      "name": "python3",
      "display_name": "Python 3"
    },
    "language_info": {
      "name": "python"
    }
  },
  "cells": [
    {
      "cell_type": "markdown",
      "metadata": {
        "id": "view-in-github",
        "colab_type": "text"
      },
      "source": [
        "<a href=\"https://colab.research.google.com/github/FractalCucumber/TelegramBot/blob/main/Skillbox_Chat_Bot_19_12_2022_%E2%80%94_Mike.ipynb\" target=\"_parent\"><img src=\"https://colab.research.google.com/assets/colab-badge.svg\" alt=\"Open In Colab\"/></a>"
      ]
    },
    {
      "cell_type": "markdown",
      "source": [
        "### Нажмите Copy ↑, укажите свое имя"
      ],
      "metadata": {
        "id": "Hd-jHxGYPYD6"
      }
    },
    {
      "cell_type": "markdown",
      "source": [
        "# День 1: \n",
        "*   Язык Python\n",
        "*   Архитектура чат ботов"
      ],
      "metadata": {
        "id": "ppsIrKbyJDTJ"
      }
    },
    {
      "cell_type": "markdown",
      "source": [
        "\n",
        "#### Наш первый Чат-бот, поздоровайтесь\n",
        "`{Вопрос на входе}` => `{Алгоритм ответа}` => `{Ответ на выходе}`\n",
        "\n",
        "---\n",
        "Простейший алгоритм — это поиск по базе известных вопросов и ответов.\n"
      ],
      "metadata": {
        "id": "mW1tlQcAJRmA"
      }
    },
    {
      "cell_type": "code",
      "source": [
        "import random"
      ],
      "metadata": {
        "id": "jHwSOC-8InIo"
      },
      "execution_count": null,
      "outputs": []
    },
    {
      "cell_type": "code",
      "execution_count": null,
      "metadata": {
        "colab": {
          "base_uri": "https://localhost:8080/"
        },
        "id": "ePQvZ6EHH75B",
        "outputId": "3d4f1e72-d7a2-40c7-de96-07f8d19b4a31"
      },
      "outputs": [
        {
          "output_type": "stream",
          "name": "stdout",
          "text": [
            "Привет\n",
            "Йоу\n"
          ]
        }
      ],
      "source": [
        "text = input()\n",
        "if text in [\"Привет\", \"Здарова\", \"Хеллоу\"]:\n",
        "  print(random.choice([\"Здрасте\", \"Йоу\", \"Приветики\"]))\n",
        "elif text in [\"Пока\", \"Увидимся\", \"Чао\"]:\n",
        "  print(random.choice([\"Буду ждать нашей встречи\", \"Ок\", \"Бай-бай\"]))\n",
        "else:\n",
        "  print(\"Не понял\")\n",
        "\n",
        "\n",
        "# input = ввод данных от пользователя\n",
        "# random.choice = выбор случайного элемента из списка\n",
        "# print = вывод на экран"
      ]
    },
    {
      "cell_type": "markdown",
      "source": [
        "# \"Питон\" vs. \"Пайтон\""
      ],
      "metadata": {
        "id": "bOI1TaBwO57Q"
      }
    },
    {
      "cell_type": "code",
      "source": [
        "# Коротко о Python\n",
        "# Вам понадобятся: немного синтаксиса, функции, переменные"
      ],
      "metadata": {
        "id": "HhC8z1yJN1ai"
      },
      "execution_count": null,
      "outputs": []
    },
    {
      "cell_type": "markdown",
      "source": [
        "# Алгоритм ответа\n",
        "1.   Если вопрос это что-то типа \"*Привет*\" или \"*Здарова*\" ну или там \"*Хеллоу*\"\n",
        "2.   То ответить случайной фразой вроде \"**Йоу**\", \"**Приветики**\" или \"**Здрасте**\""
      ],
      "metadata": {
        "id": "tysEo2EaLV9V"
      }
    },
    {
      "cell_type": "markdown",
      "source": [
        "Сложность — в том чтобы сравнить **Текст Пользователя** и текст в программе."
      ],
      "metadata": {
        "id": "26m8fK1GN4m3"
      }
    },
    {
      "cell_type": "code",
      "source": [
        "import re # Regular Expressions\n",
        "import nltk # Natural Language Toolkit\n",
        "# filter_text - фильтрует текст\n",
        "# \"Привет\" => \"привет\"\n",
        "# \"привет !!! :)\" => \"привет\"\n",
        "# \"  привет  \" => \"привет\"\n",
        "def filter_text(text):\n",
        "    text = text.lower()  # lower - к нижнему регистру\n",
        "    text = text.strip()  # strip - вырезать пробелы с начала и конца строки\n",
        "    pattern = r\"[^\\w\\s]\" # Все что не слово и не пробел\n",
        "    text = re.sub(pattern, \"\", text) # Из переменной text вырезаем \"Все что не слово и не пробел\"\n",
        "    return text\n",
        "\n",
        "# True, если тексты похожи (user_text пользовательский текст, example - контрольная фраза)\n",
        "# False, если не похожи\n",
        "def text_match(user_text, example):\n",
        "    user_text = filter_text(user_text) # Отфильтруем лишнее из первой строки\n",
        "    example = filter_text(example) # Отфильтруем лишнее из  строки\n",
        "    if user_text == example: # Если тексты точно совпадают\n",
        "        return True\n",
        "    if user_text.find(example) != -1: # Если фраза входит в пользовательский текст\n",
        "        return True\n",
        "\n",
        "    distance = nltk.edit_distance(user_text, example)\n",
        "    # Отношение кол-ва ошибок к длине слова, 1.0 - слово целиком другое, 0 - слова полностью совпадают\n",
        "    ratio = distance / len(example)  \n",
        "    if ratio < 0.40:\n",
        "        return True\n",
        "    \n",
        "    return False"
      ],
      "metadata": {
        "id": "v68CYBmmMwwu"
      },
      "execution_count": null,
      "outputs": []
    },
    {
      "cell_type": "code",
      "source": [
        "# Тексты совпадают\n",
        "text_match(\"Привет\", \"Привет\")  "
      ],
      "metadata": {
        "colab": {
          "base_uri": "https://localhost:8080/"
        },
        "id": "Y_v5venhNDey",
        "outputId": "e387161e-a385-4795-e4da-3c3b0decd60a"
      },
      "execution_count": null,
      "outputs": [
        {
          "output_type": "execute_result",
          "data": {
            "text/plain": [
              "True"
            ]
          },
          "metadata": {},
          "execution_count": 89
        }
      ]
    },
    {
      "cell_type": "code",
      "source": [
        "# Разный регистр (ToDo: lower)\n",
        "text_match(\"привет\", \"Привет\")"
      ],
      "metadata": {
        "colab": {
          "base_uri": "https://localhost:8080/"
        },
        "id": "mCkXZGN7NCxm",
        "outputId": "f3668692-75b6-4e3b-811a-a41d7cfe7fae"
      },
      "execution_count": null,
      "outputs": [
        {
          "output_type": "execute_result",
          "data": {
            "text/plain": [
              "True"
            ]
          },
          "metadata": {},
          "execution_count": 90
        }
      ]
    },
    {
      "cell_type": "code",
      "source": [
        "# Лишние символы (ToDo: regular expressions)\n",
        "text_match(\"Привет!!!\", \"Привет\")  "
      ],
      "metadata": {
        "colab": {
          "base_uri": "https://localhost:8080/"
        },
        "id": "XyYl1qxJOWfE",
        "outputId": "e017da13-b4b9-4135-dd5a-c629c78e4e45"
      },
      "execution_count": null,
      "outputs": [
        {
          "output_type": "execute_result",
          "data": {
            "text/plain": [
              "True"
            ]
          },
          "metadata": {},
          "execution_count": 91
        }
      ]
    },
    {
      "cell_type": "code",
      "source": [
        "# Пробелы\n",
        "text_match(\"   Привет!!!   \", \"Привет\")  "
      ],
      "metadata": {
        "colab": {
          "base_uri": "https://localhost:8080/"
        },
        "id": "ij4iw6MO0_Xz",
        "outputId": "de086734-c6cf-4e78-9829-186323f6b25d"
      },
      "execution_count": null,
      "outputs": [
        {
          "output_type": "execute_result",
          "data": {
            "text/plain": [
              "True"
            ]
          },
          "metadata": {},
          "execution_count": 92
        }
      ]
    },
    {
      "cell_type": "code",
      "source": [
        "# Лишние слова (ToDo: find)\n",
        "text_match(\"чувачок Привет, какие твои делища\", \"Привет\")  "
      ],
      "metadata": {
        "colab": {
          "base_uri": "https://localhost:8080/"
        },
        "id": "ElasFTAKOW8g",
        "outputId": "7a7162e4-f82a-4b64-b693-4c55b54a4fea"
      },
      "execution_count": null,
      "outputs": [
        {
          "output_type": "execute_result",
          "data": {
            "text/plain": [
              "True"
            ]
          },
          "metadata": {},
          "execution_count": 93
        }
      ]
    },
    {
      "cell_type": "code",
      "source": [
        "# Опечатки (ToDo: levenstein)\n",
        "text_match(\"Превет\", \"Привет\")\n",
        "# Расстояние редактирования (расстояние левенштейна)"
      ],
      "metadata": {
        "colab": {
          "base_uri": "https://localhost:8080/"
        },
        "id": "d9gU6QhvOY17",
        "outputId": "e06ed538-fe89-471c-f552-97059c29e1c5"
      },
      "execution_count": null,
      "outputs": [
        {
          "output_type": "execute_result",
          "data": {
            "text/plain": [
              "True"
            ]
          },
          "metadata": {},
          "execution_count": 94
        }
      ]
    },
    {
      "cell_type": "markdown",
      "source": [
        "# Определение \"намерения\" пользователя (англ. intent, интент)"
      ],
      "metadata": {
        "id": "Ue7KMxxnCRty"
      }
    },
    {
      "cell_type": "code",
      "source": [
        "# Составим карты \"намерений\", которые поддерживает наш бот\n",
        "INTENTS = {\n",
        "    \"hello\": {\n",
        "        \"examples\": [\"Привет\", \"Здравствуйте\", \"Добрый день\"],\n",
        "        \"responses\": [\"Йоу\", \"Здарова\", \"Приветствую тебя, человек.\"],\n",
        "    },\n",
        "    \"bye\": {\n",
        "        \"examples\": [\"Пока\", \"До свидания\", \"Всего хорошего\"],\n",
        "        \"responses\": [\"Давайдосвиданья\", \"И вам приятного денечка\"],\n",
        "    },\n",
        "    \"how_are_you\": {\n",
        "        \"examples\": [\"Как дела\"],\n",
        "        \"responses\": [\"Функционирую нормально\"],\n",
        "    },\n",
        "    \"buy_some_pizza\": {\n",
        "        \"examples\": [\"Голоден\", \"Хочу есть\", \"Пицца\"],\n",
        "        \"responses\": [\"А вот фиг тебе\"],\n",
        "    },\n",
        "}"
      ],
      "metadata": {
        "id": "m1Y2iyVSCFLx"
      },
      "execution_count": null,
      "outputs": []
    },
    {
      "cell_type": "code",
      "source": [
        "import random\n",
        "# Функция которая находит намерение пользователя по его тексту (с помощью text_match)\n",
        "def get_intent(user_text):\n",
        "    # Для каждого интента в карте, сделать следующее:\n",
        "    for intent in INTENTS:\n",
        "        # intent - hello, bye, how_are_you, buy_some_pizza\n",
        "        examples = INTENTS[intent][\"examples\"]\n",
        "        # Для каждого примера в списке примеров фраз, сделать следующее:\n",
        "        for example in examples:\n",
        "            if len(filter_text(example)) < 3: \n",
        "                continue\n",
        "            if text_match(user_text, example):\n",
        "                return intent # Найденное намерение подходит к польз. тексту\n",
        "    return None # Ничего не найдено\n",
        "\n",
        "# Функция возвращает случайную фразу ответа по данном интенту\n",
        "def get_random_response(intent):\n",
        "    return random.choice(INTENTS[intent][\"responses\"])"
      ],
      "metadata": {
        "id": "9kCaJFVWukEV"
      },
      "execution_count": null,
      "outputs": []
    },
    {
      "cell_type": "code",
      "source": [
        "get_intent(\"Я очень голоден хочу пиццу с ананасами\")"
      ],
      "metadata": {
        "colab": {
          "base_uri": "https://localhost:8080/",
          "height": 36
        },
        "id": "wTfmvGa0w95Z",
        "outputId": "6613b135-76d0-4faa-f479-9d57cf0b9251"
      },
      "execution_count": null,
      "outputs": [
        {
          "output_type": "execute_result",
          "data": {
            "text/plain": [
              "'buy_some_pizza'"
            ],
            "application/vnd.google.colaboratory.intrinsic+json": {
              "type": "string"
            }
          },
          "metadata": {},
          "execution_count": 15
        }
      ]
    },
    {
      "cell_type": "code",
      "source": [
        "get_random_response(\"bye\")"
      ],
      "metadata": {
        "colab": {
          "base_uri": "https://localhost:8080/",
          "height": 36
        },
        "id": "jvopWghDx7nU",
        "outputId": "4727eb60-3e4a-4bd1-f901-62606e7b63ad"
      },
      "execution_count": null,
      "outputs": [
        {
          "output_type": "execute_result",
          "data": {
            "text/plain": [
              "'И вам приятного денечка'"
            ],
            "application/vnd.google.colaboratory.intrinsic+json": {
              "type": "string"
            }
          },
          "metadata": {},
          "execution_count": 28
        }
      ]
    },
    {
      "cell_type": "code",
      "source": [
        "# Пример использования\n",
        "user_text = \"\"\n",
        "while user_text != \"Пока\":\n",
        "    print(\"[USER]: \", end='')\n",
        "    user_text = input()\n",
        "    intent = get_intent(user_text)\n",
        "    response = get_random_response(intent)\n",
        "    print(f\"[BOT]: {response}\")"
      ],
      "metadata": {
        "colab": {
          "base_uri": "https://localhost:8080/"
        },
        "id": "GLoOn5_MyHKV",
        "outputId": "54600159-25cb-45e4-cd87-8cbebb824273"
      },
      "execution_count": null,
      "outputs": [
        {
          "output_type": "stream",
          "name": "stdout",
          "text": [
            "[USER]: Что слышно\n",
            "[BOT]: Ну привет\n",
            "[USER]: Как дела\n",
            "[BOT]: Эй, ты как?\n",
            "[USER]: Пока\n",
            "[BOT]: Рад Вас видеть\n"
          ]
        }
      ]
    },
    {
      "cell_type": "code",
      "source": [
        "# KeyError? Проверьте правильность написания examples / responses\n",
        "# Indentation Error? Проверьте отступы!\n",
        "# NameError? Нет такой функции или переменной"
      ],
      "metadata": {
        "id": "E_6rErQyuQx2"
      },
      "execution_count": null,
      "outputs": []
    },
    {
      "cell_type": "markdown",
      "source": [
        "# День 2\n"
      ],
      "metadata": {
        "id": "hSSID1qhTRst"
      }
    },
    {
      "cell_type": "markdown",
      "source": [
        "# Классификация текстов ML-моделью\n",
        "Файл с данными: https://drive.google.com/file/d/1_L5CYGsO58zkB3LMBG73ezIEwYFD07Ed/view"
      ],
      "metadata": {
        "id": "pqqsdYVxRC4w"
      }
    },
    {
      "cell_type": "code",
      "source": [
        "import json\n",
        "\n",
        "# Взять файл и сделать с ним следующее:\n",
        "with open(\"/content/big_bot_config.json\", \"r\") as config_file:\n",
        "    data = json.load(config_file)\n",
        "\n",
        "INTENTS = data[\"intents\"]"
      ],
      "metadata": {
        "id": "IekZ2-zqRHKH"
      },
      "execution_count": null,
      "outputs": []
    },
    {
      "cell_type": "code",
      "source": [
        "print(\"Интентов загружено из файла:\", len(INTENTS))"
      ],
      "metadata": {
        "colab": {
          "base_uri": "https://localhost:8080/"
        },
        "id": "ANR0_zQX0dAK",
        "outputId": "64adf557-e34d-4941-81a7-4ecfe0b99de4"
      },
      "execution_count": null,
      "outputs": [
        {
          "output_type": "stream",
          "name": "stdout",
          "text": [
            "Интентов загружено из файла: 439\n"
          ]
        }
      ]
    },
    {
      "cell_type": "code",
      "source": [
        "# Классификация текстов - определение к какому классу(интент) относится текст\n",
        "# Скормим модели обучающую выборку (Фраза + Интент)\n",
        "# Обучающая выборка состоит из входных и выходных данных\n",
        "# Фраза (X) - на вход\n",
        "# Интент (y) - на выход\n",
        "X = []\n",
        "y = []\n",
        "\n",
        "for intent in INTENTS:\n",
        "    examples = INTENTS[intent][\"examples\"]\n",
        "    for example in examples:\n",
        "        example = filter_text(example)\n",
        "        if len(example) < 3:\n",
        "            continue # Пропускаем текст если он слишком короткий\n",
        "        X.append(example)  # Добавляем фразу в список X\n",
        "        y.append(intent)"
      ],
      "metadata": {
        "id": "MzQAmCZk1QMl"
      },
      "execution_count": null,
      "outputs": []
    },
    {
      "cell_type": "code",
      "source": [
        "len(X), len(y)"
      ],
      "metadata": {
        "colab": {
          "base_uri": "https://localhost:8080/"
        },
        "id": "ASixpnzr27BM",
        "outputId": "e6a9e0a2-4379-458e-cfe0-5b551dad96d8"
      },
      "execution_count": null,
      "outputs": [
        {
          "output_type": "execute_result",
          "data": {
            "text/plain": [
              "(2979, 2979)"
            ]
          },
          "metadata": {},
          "execution_count": 48
        }
      ]
    },
    {
      "cell_type": "code",
      "source": [
        "# Векторизация текстов\n",
        "# Подобрать, настроить, обучить модель\n",
        "# Интегрировать модель в общую логику бота"
      ],
      "metadata": {
        "id": "2f3Eidpp3IBT"
      },
      "execution_count": null,
      "outputs": []
    },
    {
      "cell_type": "markdown",
      "source": [
        "# Векторизация: \n",
        "\"текст\" => вектор [1,2,3,4]\n",
        "\n",
        "Задача модель - найти закономерности между X и y\n",
        "\n",
        "```\n",
        "1. Набор Текстов = {\n",
        "    \"мама мыла раму\",\n",
        "    \"мыла раму мама\",\n",
        "    \"раму мама мыла\"\n",
        "}\n",
        "2. Обучить Векторайзер на наборе текстов\n",
        "  мама = 1\n",
        "  мыла = 2\n",
        "  раму = 3\n",
        "\n",
        "3. Векторизация\n",
        "    \"мама мыла раму\" => [1,2,3]\n",
        "    \"мыла раму мама\" => [2,3,1]\n",
        "    \"раму мама мыла\" => [3,1,2]\n",
        "\n",
        "```"
      ],
      "metadata": {
        "id": "4D_DuuDw62sF"
      }
    },
    {
      "cell_type": "markdown",
      "source": [
        "Например: [CountVectorizer](https://scikit-learn.org/stable/modules/generated/sklearn.feature_extraction.text.CountVectorizer.html), [TfIDFVectorizer](https://scikit-learn.org/stable/modules/generated/sklearn.feature_extraction.text.TfidfVectorizer.html)"
      ],
      "metadata": {
        "id": "ufxqHdxn7d1B"
      }
    },
    {
      "cell_type": "code",
      "source": [
        "from sklearn.feature_extraction.text import CountVectorizer\n",
        "\n",
        "vectorizer = CountVectorizer() # Настройки в скобочках\n",
        "# ДЗ: попробовать ngram_range, analyzer\n",
        "\n",
        "vectorizer.fit(X) # Обучаем векторайзер\n",
        "\n",
        "vecX = vectorizer.transform(X) # Все тексты преобразуем в вектора"
      ],
      "metadata": {
        "id": "wyIHwCc68TSU"
      },
      "execution_count": null,
      "outputs": []
    },
    {
      "cell_type": "code",
      "source": [
        "X[1200], y[1200]"
      ],
      "metadata": {
        "colab": {
          "base_uri": "https://localhost:8080/"
        },
        "id": "IvJcLFfw9uLV",
        "outputId": "ffbb9102-6a3e-4e85-bd1a-5a27d3c21617"
      },
      "execution_count": null,
      "outputs": [
        {
          "output_type": "execute_result",
          "data": {
            "text/plain": [
              "('ты смотришь телевизор', 'byflood')"
            ]
          },
          "metadata": {},
          "execution_count": 63
        }
      ]
    },
    {
      "cell_type": "code",
      "source": [
        "print(vecX[1200])"
      ],
      "metadata": {
        "colab": {
          "base_uri": "https://localhost:8080/"
        },
        "id": "jX476g2a9zxT",
        "outputId": "e9ebcfda-a3d9-40cb-bc07-3d348e4bb5fd"
      },
      "execution_count": null,
      "outputs": [
        {
          "output_type": "stream",
          "name": "stdout",
          "text": [
            "  (0, 2044)\t1\n",
            "  (0, 2202)\t1\n",
            "  (0, 2254)\t1\n"
          ]
        }
      ]
    },
    {
      "cell_type": "code",
      "source": [
        "# Пример\n",
        "print(vectorizer.transform([\"смотришь ты телевизор смотришь телевизор\"]))"
      ],
      "metadata": {
        "colab": {
          "base_uri": "https://localhost:8080/"
        },
        "id": "Dq-MH4Dd-EAA",
        "outputId": "516c7620-9f2e-47cb-f08b-95085e8e1b3b"
      },
      "execution_count": null,
      "outputs": [
        {
          "output_type": "stream",
          "name": "stdout",
          "text": [
            "  (0, 2044)\t2\n",
            "  (0, 2202)\t2\n",
            "  (0, 2254)\t1\n"
          ]
        }
      ]
    },
    {
      "cell_type": "code",
      "source": [
        "# Обучаем модель классификации\n",
        "# Выбираем алгоритм/модель (экспериментировать, иметь опыт)\n",
        "# https://scikit-learn.org/stable/modules/generated/sklearn.ensemble.RandomForestClassifier.html#sklearn.ensemble.RandomForestClassifier\n",
        "from sklearn.ensemble import RandomForestClassifier\n",
        "\n",
        "# ДЗ: попробовать MLPRegressor\n",
        "model = RandomForestClassifier() # ДЗ, попробовать Настройки, n_estimators = ?, max_depth?\n",
        "model.fit(vecX, y) # Обучение модели"
      ],
      "metadata": {
        "colab": {
          "base_uri": "https://localhost:8080/"
        },
        "id": "Ppqmv7YH-nGp",
        "outputId": "1a6037c3-b51a-4e4e-e2e8-54f75d51e905"
      },
      "execution_count": null,
      "outputs": [
        {
          "output_type": "execute_result",
          "data": {
            "text/plain": [
              "RandomForestClassifier()"
            ]
          },
          "metadata": {},
          "execution_count": 70
        }
      ]
    },
    {
      "cell_type": "code",
      "source": [
        "model.predict(vectorizer.transform([\"Насколько ты разумна?\"]))"
      ],
      "metadata": {
        "colab": {
          "base_uri": "https://localhost:8080/"
        },
        "id": "wVak5V1FAADG",
        "outputId": "76a0cb60-9196-42c5-f589-7d18d10d3d8d"
      },
      "execution_count": null,
      "outputs": [
        {
          "output_type": "execute_result",
          "data": {
            "text/plain": [
              "array(['turing'], dtype='<U29')"
            ]
          },
          "metadata": {},
          "execution_count": 74
        }
      ]
    },
    {
      "cell_type": "code",
      "source": [
        "# Метрика = мат. инструмент для оценки качества модели\n",
        "from sklearn.metrics import accuracy_score, f1_score\n",
        "# https://scikit-learn.org/stable/modules/classes.html#classification-metrics\n",
        "# Интенты предсказанные моделью\n",
        "y_pred = model.predict(vecX)\n",
        "\n",
        "print(\"accuracy_score\", accuracy_score(y, y_pred)) # Сравниваем y и y_pred\n",
        "print(\"f1_score\", f1_score(y, y_pred, average=\"macro\")) # Сравниваем y и y_pred"
      ],
      "metadata": {
        "colab": {
          "base_uri": "https://localhost:8080/"
        },
        "id": "pEeSKphZAcFF",
        "outputId": "e9ae7d69-46ca-4d67-8d3d-5f44da52c29a"
      },
      "execution_count": null,
      "outputs": [
        {
          "output_type": "stream",
          "name": "stdout",
          "text": [
            "accuracy_score 0.829137294394092\n",
            "f1_score 0.7592610424487514\n"
          ]
        }
      ]
    },
    {
      "cell_type": "code",
      "source": [
        "def get_intent_ml(user_text):\n",
        "    user_text = filter_text(user_text)\n",
        "    vec_text = vectorizer.transform([user_text])\n",
        "    intent = model.predict(vec_text)[0]\n",
        "    # model.predict_proba()\n",
        "    return intent"
      ],
      "metadata": {
        "id": "PY5tkki9BgjT"
      },
      "execution_count": null,
      "outputs": []
    },
    {
      "cell_type": "code",
      "source": [
        "import pandas as pd\n",
        "proba = model.predict_proba(vectorizer.transform([\"Привет, как дела\"]))\n",
        "\n",
        "# Вывести на экран список вероятных интентов\n",
        "pd.DataFrame(columns=model.classes_, data=[proba[0]]).T.sort_values(by=0, ascending=False)"
      ],
      "metadata": {
        "colab": {
          "base_uri": "https://localhost:8080/",
          "height": 424
        },
        "id": "UryZQl4FDyKo",
        "outputId": "7112237e-bfb9-468e-b78b-4e61b145f182"
      },
      "execution_count": null,
      "outputs": [
        {
          "output_type": "execute_result",
          "data": {
            "text/plain": [
              "                         0\n",
              "hello             0.440209\n",
              "howareyou         0.045159\n",
              "whatsup           0.032133\n",
              "howdoyoudo        0.030822\n",
              "mood              0.030629\n",
              "...                    ...\n",
              "fables            0.000000\n",
              "experience        0.000000\n",
              "exits             0.000000\n",
              "exams_and_quizes  0.000000\n",
              "сlosing_account   0.000000\n",
              "\n",
              "[434 rows x 1 columns]"
            ],
            "text/html": [
              "\n",
              "  <div id=\"df-de7cada7-e54b-4e75-b67b-98535ba2c95a\">\n",
              "    <div class=\"colab-df-container\">\n",
              "      <div>\n",
              "<style scoped>\n",
              "    .dataframe tbody tr th:only-of-type {\n",
              "        vertical-align: middle;\n",
              "    }\n",
              "\n",
              "    .dataframe tbody tr th {\n",
              "        vertical-align: top;\n",
              "    }\n",
              "\n",
              "    .dataframe thead th {\n",
              "        text-align: right;\n",
              "    }\n",
              "</style>\n",
              "<table border=\"1\" class=\"dataframe\">\n",
              "  <thead>\n",
              "    <tr style=\"text-align: right;\">\n",
              "      <th></th>\n",
              "      <th>0</th>\n",
              "    </tr>\n",
              "  </thead>\n",
              "  <tbody>\n",
              "    <tr>\n",
              "      <th>hello</th>\n",
              "      <td>0.440209</td>\n",
              "    </tr>\n",
              "    <tr>\n",
              "      <th>howareyou</th>\n",
              "      <td>0.045159</td>\n",
              "    </tr>\n",
              "    <tr>\n",
              "      <th>whatsup</th>\n",
              "      <td>0.032133</td>\n",
              "    </tr>\n",
              "    <tr>\n",
              "      <th>howdoyoudo</th>\n",
              "      <td>0.030822</td>\n",
              "    </tr>\n",
              "    <tr>\n",
              "      <th>mood</th>\n",
              "      <td>0.030629</td>\n",
              "    </tr>\n",
              "    <tr>\n",
              "      <th>...</th>\n",
              "      <td>...</td>\n",
              "    </tr>\n",
              "    <tr>\n",
              "      <th>fables</th>\n",
              "      <td>0.000000</td>\n",
              "    </tr>\n",
              "    <tr>\n",
              "      <th>experience</th>\n",
              "      <td>0.000000</td>\n",
              "    </tr>\n",
              "    <tr>\n",
              "      <th>exits</th>\n",
              "      <td>0.000000</td>\n",
              "    </tr>\n",
              "    <tr>\n",
              "      <th>exams_and_quizes</th>\n",
              "      <td>0.000000</td>\n",
              "    </tr>\n",
              "    <tr>\n",
              "      <th>сlosing_account</th>\n",
              "      <td>0.000000</td>\n",
              "    </tr>\n",
              "  </tbody>\n",
              "</table>\n",
              "<p>434 rows × 1 columns</p>\n",
              "</div>\n",
              "      <button class=\"colab-df-convert\" onclick=\"convertToInteractive('df-de7cada7-e54b-4e75-b67b-98535ba2c95a')\"\n",
              "              title=\"Convert this dataframe to an interactive table.\"\n",
              "              style=\"display:none;\">\n",
              "        \n",
              "  <svg xmlns=\"http://www.w3.org/2000/svg\" height=\"24px\"viewBox=\"0 0 24 24\"\n",
              "       width=\"24px\">\n",
              "    <path d=\"M0 0h24v24H0V0z\" fill=\"none\"/>\n",
              "    <path d=\"M18.56 5.44l.94 2.06.94-2.06 2.06-.94-2.06-.94-.94-2.06-.94 2.06-2.06.94zm-11 1L8.5 8.5l.94-2.06 2.06-.94-2.06-.94L8.5 2.5l-.94 2.06-2.06.94zm10 10l.94 2.06.94-2.06 2.06-.94-2.06-.94-.94-2.06-.94 2.06-2.06.94z\"/><path d=\"M17.41 7.96l-1.37-1.37c-.4-.4-.92-.59-1.43-.59-.52 0-1.04.2-1.43.59L10.3 9.45l-7.72 7.72c-.78.78-.78 2.05 0 2.83L4 21.41c.39.39.9.59 1.41.59.51 0 1.02-.2 1.41-.59l7.78-7.78 2.81-2.81c.8-.78.8-2.07 0-2.86zM5.41 20L4 18.59l7.72-7.72 1.47 1.35L5.41 20z\"/>\n",
              "  </svg>\n",
              "      </button>\n",
              "      \n",
              "  <style>\n",
              "    .colab-df-container {\n",
              "      display:flex;\n",
              "      flex-wrap:wrap;\n",
              "      gap: 12px;\n",
              "    }\n",
              "\n",
              "    .colab-df-convert {\n",
              "      background-color: #E8F0FE;\n",
              "      border: none;\n",
              "      border-radius: 50%;\n",
              "      cursor: pointer;\n",
              "      display: none;\n",
              "      fill: #1967D2;\n",
              "      height: 32px;\n",
              "      padding: 0 0 0 0;\n",
              "      width: 32px;\n",
              "    }\n",
              "\n",
              "    .colab-df-convert:hover {\n",
              "      background-color: #E2EBFA;\n",
              "      box-shadow: 0px 1px 2px rgba(60, 64, 67, 0.3), 0px 1px 3px 1px rgba(60, 64, 67, 0.15);\n",
              "      fill: #174EA6;\n",
              "    }\n",
              "\n",
              "    [theme=dark] .colab-df-convert {\n",
              "      background-color: #3B4455;\n",
              "      fill: #D2E3FC;\n",
              "    }\n",
              "\n",
              "    [theme=dark] .colab-df-convert:hover {\n",
              "      background-color: #434B5C;\n",
              "      box-shadow: 0px 1px 3px 1px rgba(0, 0, 0, 0.15);\n",
              "      filter: drop-shadow(0px 1px 2px rgba(0, 0, 0, 0.3));\n",
              "      fill: #FFFFFF;\n",
              "    }\n",
              "  </style>\n",
              "\n",
              "      <script>\n",
              "        const buttonEl =\n",
              "          document.querySelector('#df-de7cada7-e54b-4e75-b67b-98535ba2c95a button.colab-df-convert');\n",
              "        buttonEl.style.display =\n",
              "          google.colab.kernel.accessAllowed ? 'block' : 'none';\n",
              "\n",
              "        async function convertToInteractive(key) {\n",
              "          const element = document.querySelector('#df-de7cada7-e54b-4e75-b67b-98535ba2c95a');\n",
              "          const dataTable =\n",
              "            await google.colab.kernel.invokeFunction('convertToInteractive',\n",
              "                                                     [key], {});\n",
              "          if (!dataTable) return;\n",
              "\n",
              "          const docLinkHtml = 'Like what you see? Visit the ' +\n",
              "            '<a target=\"_blank\" href=https://colab.research.google.com/notebooks/data_table.ipynb>data table notebook</a>'\n",
              "            + ' to learn more about interactive tables.';\n",
              "          element.innerHTML = '';\n",
              "          dataTable['output_type'] = 'display_data';\n",
              "          await google.colab.output.renderOutput(dataTable, element);\n",
              "          const docLink = document.createElement('div');\n",
              "          docLink.innerHTML = docLinkHtml;\n",
              "          element.appendChild(docLink);\n",
              "        }\n",
              "      </script>\n",
              "    </div>\n",
              "  </div>\n",
              "  "
            ]
          },
          "metadata": {},
          "execution_count": 106
        }
      ]
    },
    {
      "cell_type": "code",
      "source": [
        "def bot(user_text):\n",
        "    intent = get_intent(user_text)\n",
        "    if intent:\n",
        "        return get_random_response(intent)\n",
        "    intent = get_intent_ml(user_text)\n",
        "    return get_random_response(intent)"
      ],
      "metadata": {
        "id": "k_sjXgnFDQE3"
      },
      "execution_count": null,
      "outputs": []
    },
    {
      "cell_type": "markdown",
      "source": [
        "# День 3\n",
        "Бот в Телеграм"
      ],
      "metadata": {
        "id": "MMr2mDwFTVeK"
      }
    },
    {
      "cell_type": "code",
      "source": [],
      "metadata": {
        "id": "9hPPDSAdTYco"
      },
      "execution_count": null,
      "outputs": []
    }
  ]
}